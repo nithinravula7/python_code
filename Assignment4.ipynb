{
  "nbformat": 4,
  "nbformat_minor": 0,
  "metadata": {
    "colab": {
      "provenance": [],
      "authorship_tag": "ABX9TyNu8b83pXIuLo7YeLk6xoTE",
      "include_colab_link": true
    },
    "kernelspec": {
      "name": "python3",
      "display_name": "Python 3"
    },
    "language_info": {
      "name": "python"
    }
  },
  "cells": [
    {
      "cell_type": "markdown",
      "metadata": {
        "id": "view-in-github",
        "colab_type": "text"
      },
      "source": [
        "<a href=\"https://colab.research.google.com/github/nithinravula7/python_code/blob/main/Assignment4.ipynb\" target=\"_parent\"><img src=\"https://colab.research.google.com/assets/colab-badge.svg\" alt=\"Open In Colab\"/></a>"
      ]
    },
    {
      "cell_type": "code",
      "execution_count": null,
      "metadata": {
        "colab": {
          "base_uri": "https://localhost:8080/"
        },
        "id": "7BKAmXEaRtCM",
        "outputId": "cb1f7656-c0e2-419b-da97-3aee45fab2cb"
      },
      "outputs": [
        {
          "output_type": "stream",
          "name": "stdout",
          "text": [
            "Enter a number: 7\n",
            "Factorial of 7 is 7!=5040\n"
          ]
        }
      ],
      "source": [
        "#1.Write a program in Python to display the Factorial of a number\n",
        "num=int(input(\"Enter a number: \"))\n",
        "x=range(1,num+1)\n",
        "fac=1\n",
        "for y in x:\n",
        "  fac=fac*int(y)\n",
        "print(\"Factorial of {} is {}!={}\".format(num,num,fac))"
      ]
    },
    {
      "cell_type": "code",
      "source": [],
      "metadata": {
        "id": "ozRccScmW-uT"
      },
      "execution_count": null,
      "outputs": []
    },
    {
      "cell_type": "code",
      "source": [
        "#2.Write a program in python to reverse the word with the help of while loop and for loop.\n",
        "\n",
        "#while loop\n",
        "\n",
        "str1=input(\"Enter any string: \")\n",
        "y=-1\n",
        "revx=\"\"\n",
        "while y>=-(int(len(str1))):\n",
        "  revx=revx+str1[y]\n",
        "  y=y-1\n",
        "print(\"Reversed word-using while loop: \",revx)\n",
        "\n",
        "#forloop\n",
        "\n",
        "str2=input(\"Enter any string: \")\n",
        "z=0\n",
        "revy=\"\"\n",
        "for y in str2:\n",
        "  z=z-1\n",
        "  revy=revy+str2[z]\n",
        "print(\"Reversed word-using for loop: \",revy)"
      ],
      "metadata": {
        "colab": {
          "base_uri": "https://localhost:8080/"
        },
        "id": "eQ33zqU4SyWK",
        "outputId": "521ba223-30c8-42a0-c0ca-bcffa6b5e435"
      },
      "execution_count": null,
      "outputs": [
        {
          "output_type": "stream",
          "name": "stdout",
          "text": [
            "Enter any string: nithin\n",
            "Reversed word-using while loop:  nihtin\n",
            "Enter any string: ravula\n",
            "Reversed word-using for loop:  aluvar\n"
          ]
        }
      ]
    },
    {
      "cell_type": "code",
      "source": [
        "#3.Write a program to print n natural numbers in descending order using a while loop.\n",
        "num=int(input(\"Enter a natural number : \"))\n",
        "print(\"First {} natural numbers in descending order: \".format(num))\n",
        "while num>=1:\n",
        "  print(num)\n",
        "  num=num-1"
      ],
      "metadata": {
        "id": "BUEOLz65U6by",
        "colab": {
          "base_uri": "https://localhost:8080/"
        },
        "outputId": "3b105f6b-6e08-42d9-ff67-0bb12c61279a"
      },
      "execution_count": 6,
      "outputs": [
        {
          "output_type": "stream",
          "name": "stdout",
          "text": [
            "Enter a natural number : 8\n",
            "First 8 natural numbers in descending order: \n",
            "8\n",
            "7\n",
            "6\n",
            "5\n",
            "4\n",
            "3\n",
            "2\n",
            "1\n"
          ]
        }
      ]
    },
    {
      "cell_type": "code",
      "source": [
        "#4.Write a program to print multiplication table of any given number(using 'for' loop)\n",
        "num=int(input(\"Enter a number: \"))\n",
        "mul=range(1,11)\n",
        "print(\"The multiplication table of {} upto 10 multiples is given by: \".format(num))\n",
        "for y in mul:\n",
        "  print(\"{}*{}={}\".format(num,y,num*y))"
      ],
      "metadata": {
        "colab": {
          "base_uri": "https://localhost:8080/"
        },
        "id": "S7EV-q7FX393",
        "outputId": "5082fa97-5d4b-4c58-ef56-46dcf70f6add"
      },
      "execution_count": 7,
      "outputs": [
        {
          "output_type": "stream",
          "name": "stdout",
          "text": [
            "Enter a number: 10\n",
            "The multiplication table of 10 upto 10 multiples is given by: \n",
            "10*1=10\n",
            "10*2=20\n",
            "10*3=30\n",
            "10*4=40\n",
            "10*5=50\n",
            "10*6=60\n",
            "10*7=70\n",
            "10*8=80\n",
            "10*9=90\n",
            "10*10=100\n"
          ]
        }
      ]
    },
    {
      "cell_type": "code",
      "source": [
        "#5.Count the total number of digits in a number.For example,the number is 758692,so the output should be 6\n",
        "\n",
        "x=int(input(\"Enter a number: \"))\n",
        "digits=str(x)\n",
        "for y in digits:\n",
        "  while int(y)<len(digits):\n",
        "    y=int(y)+1\n",
        "print(\"Number of digits : \",y)"
      ],
      "metadata": {
        "colab": {
          "base_uri": "https://localhost:8080/"
        },
        "id": "xpxLZJhSYl1X",
        "outputId": "31bd9eac-ea00-4d81-829d-b2d7d34b6c1c"
      },
      "execution_count": 1,
      "outputs": [
        {
          "output_type": "stream",
          "name": "stdout",
          "text": [
            "Enter a number: 123456789\n",
            "Number of digits in the entered number:  9\n"
          ]
        }
      ]
    },
    {
      "cell_type": "code",
      "source": [
        "\n",
        "#Write a program to display all prime numbers within a range.\n",
        "#(A Prime Number is a number that cannot be made by multiplying other whole numbers. A prime number is a natural number greater than 1 that is not a product of two smaller natural numbers Examples: 6#\n",
        "# is not a prime mumber because it can be made by 2×3 = 6 37 is a prime number because no other whole numbers multiply together to make it.)\n",
        "\n",
        "x=range(2,101)\n",
        "for y in x:\n",
        "  while y%2!=0 or y==2:\n",
        "    while y%3!=0 or y==3:\n",
        "      while y%5!=0 or y==5:\n",
        "        while y%7!=0 or y==7:\n",
        "          print(y)\n",
        "          break\n",
        "        break\n",
        "      break\n",
        "    break\n",
        "  y=y+1\n"
      ],
      "metadata": {
        "colab": {
          "base_uri": "https://localhost:8080/"
        },
        "id": "Rqp8HcYGuxV8",
        "outputId": "f51a02f9-b5ef-4eca-d47f-afe73d1688c6"
      },
      "execution_count": 3,
      "outputs": [
        {
          "output_type": "stream",
          "name": "stdout",
          "text": [
            "2\n",
            "3\n",
            "5\n",
            "7\n",
            "11\n",
            "13\n",
            "17\n",
            "19\n",
            "23\n",
            "29\n",
            "31\n",
            "37\n",
            "41\n",
            "43\n",
            "47\n",
            "53\n",
            "59\n",
            "61\n",
            "67\n",
            "71\n",
            "73\n",
            "79\n",
            "83\n",
            "89\n",
            "97\n"
          ]
        }
      ]
    },
    {
      "cell_type": "code",
      "source": [
        "#7.Display Fibonacci series up to 10 terms(The Fibonacci Sequence is a series of numbers. The next number is found by adding up the two numbers before it. The first two numbers are 0 and 1.\n",
        "#For example, 0, 1, 1, 2, 3, 5, 8, 13, 21. The next number in this series above is 13+21 = 34.)\n",
        "\n",
        "x=range(1,11)\n",
        "a=-1\n",
        "b=1\n",
        "for y in x:\n",
        "  c=a+b\n",
        "  a=c-a\n",
        "  b=c\n",
        "  print(c)"
      ],
      "metadata": {
        "colab": {
          "base_uri": "https://localhost:8080/"
        },
        "id": "ew6ScdTtvw3x",
        "outputId": "9c6dfcb5-573a-43ec-e27b-70a2be5513bd"
      },
      "execution_count": 4,
      "outputs": [
        {
          "output_type": "stream",
          "name": "stdout",
          "text": [
            "0\n",
            "1\n",
            "1\n",
            "2\n",
            "3\n",
            "5\n",
            "8\n",
            "13\n",
            "21\n",
            "34\n"
          ]
        }
      ]
    },
    {
      "cell_type": "code",
      "source": [
        "#8.Write a python program that accepts a word from the user and returns it.\n",
        "str1=input(\"Enter any string: \")\n",
        "i=-1\n",
        "rev=''\n",
        "for y in str1:\n",
        "  rev=rev+str1[i]\n",
        "  i=i-1\n",
        "print(\"Reversed word: \",rev)"
      ],
      "metadata": {
        "colab": {
          "base_uri": "https://localhost:8080/"
        },
        "id": "kNnP5v2HwCFc",
        "outputId": "2747e950-4be6-41b8-b0f4-052c35fb6847"
      },
      "execution_count": 6,
      "outputs": [
        {
          "output_type": "stream",
          "name": "stdout",
          "text": [
            "Enter any string: nithin\n",
            "Reversed word:  nihtin\n"
          ]
        }
      ]
    }
  ]
}