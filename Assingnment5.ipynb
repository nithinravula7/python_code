{
  "nbformat": 4,
  "nbformat_minor": 0,
  "metadata": {
    "colab": {
      "provenance": [],
      "authorship_tag": "ABX9TyMbryuq9ICI0ylBUXJic+Uv",
      "include_colab_link": true
    },
    "kernelspec": {
      "name": "python3",
      "display_name": "Python 3"
    },
    "language_info": {
      "name": "python"
    }
  },
  "cells": [
    {
      "cell_type": "markdown",
      "metadata": {
        "id": "view-in-github",
        "colab_type": "text"
      },
      "source": [
        "<a href=\"https://colab.research.google.com/github/nithinravula7/python_code/blob/main/Assingnment5.ipynb\" target=\"_parent\"><img src=\"https://colab.research.google.com/assets/colab-badge.svg\" alt=\"Open In Colab\"/></a>"
      ]
    },
    {
      "cell_type": "code",
      "execution_count": null,
      "metadata": {
        "colab": {
          "base_uri": "https://localhost:8080/"
        },
        "id": "trYzWowwFIjn",
        "outputId": "ae956355-4297-4a2e-8463-b89191b4b7bf"
      },
      "outputs": [
        {
          "output_type": "stream",
          "name": "stdout",
          "text": [
            "* * * *\n",
            "*     *\n",
            "* * * *\n",
            "*     *\n",
            "*     *\n"
          ]
        }
      ],
      "source": [
        "for y in range(1,6):\n",
        "  if y==1:\n",
        "    print(\"* * * *\")\n",
        "  elif y==2 or y==4 or y==5:\n",
        "    print(\"*     *\")\n",
        "  else:\n",
        "    print(\"* * * *\")"
      ]
    },
    {
      "cell_type": "code",
      "source": [
        "for y in range (0,5):\n",
        "  if y==0 or y==2 or y==4:\n",
        "    print(\"* * *\")\n",
        "  else:\n",
        "    print(\"*    *\")\n"
      ],
      "metadata": {
        "colab": {
          "base_uri": "https://localhost:8080/"
        },
        "id": "_OX-x84GFsGG",
        "outputId": "bbe503d2-c6d3-4d94-a310-a5233b9ed231"
      },
      "execution_count": null,
      "outputs": [
        {
          "output_type": "stream",
          "name": "stdout",
          "text": [
            "* * *\n",
            "*    *\n",
            "* * *\n",
            "*    *\n",
            "* * *\n"
          ]
        }
      ]
    },
    {
      "cell_type": "code",
      "source": [
        "for y in range(0,5):\n",
        " if y==0 or y==4:\n",
        "  print(\"* * * * *\")\n",
        " elif y==1 or y==2 or y==3:\n",
        "  print(\"*\")"
      ],
      "metadata": {
        "colab": {
          "base_uri": "https://localhost:8080/"
        },
        "id": "M-c6QVExIO6G",
        "outputId": "ea512cab-7ba5-4af2-a335-fe8529ee04e3"
      },
      "execution_count": null,
      "outputs": [
        {
          "output_type": "stream",
          "name": "stdout",
          "text": [
            "* * * * *\n",
            "*\n",
            "*\n",
            "*\n",
            "* * * * *\n"
          ]
        }
      ]
    },
    {
      "cell_type": "code",
      "source": [
        "for y in range(0,5):\n",
        "  if y==0 or y==4:\n",
        "    print(\"*  *\")\n",
        "  elif y==1 or y==2 or y==3:\n",
        "    print(\"*     *\")\n"
      ],
      "metadata": {
        "colab": {
          "base_uri": "https://localhost:8080/"
        },
        "id": "C0_6w17aI9oA",
        "outputId": "6e8d392c-369b-4e0d-a8f1-ca2c2eca108e"
      },
      "execution_count": null,
      "outputs": [
        {
          "output_type": "stream",
          "name": "stdout",
          "text": [
            "*  *\n",
            "*     *\n",
            "*     *\n",
            "*     *\n",
            "*  *\n"
          ]
        }
      ]
    },
    {
      "cell_type": "code",
      "source": [
        "for y in range(0,5):\n",
        " if y==0 or y==4 or y==2:\n",
        "  print(\"* * * * *\")\n",
        " elif y==1 or y==3:\n",
        "  print(\"*\")"
      ],
      "metadata": {
        "colab": {
          "base_uri": "https://localhost:8080/"
        },
        "id": "A-hoDiQaJBsM",
        "outputId": "28302502-7d23-40ec-adc8-587de55ab3c6"
      },
      "execution_count": null,
      "outputs": [
        {
          "output_type": "stream",
          "name": "stdout",
          "text": [
            "* * * * *\n",
            "*\n",
            "* * * * *\n",
            "*\n",
            "* * * * *\n"
          ]
        }
      ]
    },
    {
      "cell_type": "code",
      "source": [
        "for y in range(0,5):\n",
        "  if y==0 or y==2:\n",
        "      print(\"* * * * *\")\n",
        "  elif y==1 or y==3 or y==4:\n",
        "      print(\"*\")\n"
      ],
      "metadata": {
        "colab": {
          "base_uri": "https://localhost:8080/"
        },
        "id": "puKQblnpJ9kq",
        "outputId": "1f0d008b-de1d-46e5-b624-24651441fc8b"
      },
      "execution_count": null,
      "outputs": [
        {
          "output_type": "stream",
          "name": "stdout",
          "text": [
            "* * * * *\n",
            "*\n",
            "* * * * *\n",
            "*\n",
            "*\n"
          ]
        }
      ]
    },
    {
      "cell_type": "code",
      "source": [
        "for y in range(0,5):\n",
        "  if y==0 or y==1 or y==3 or y==4:\n",
        "    print(\"*       *\")\n",
        "  else:\n",
        "    print(\"* * * * *\")"
      ],
      "metadata": {
        "colab": {
          "base_uri": "https://localhost:8080/"
        },
        "id": "gEU44sEbK6HA",
        "outputId": "4ee58038-e1cd-4842-963d-28aed25de41f"
      },
      "execution_count": null,
      "outputs": [
        {
          "output_type": "stream",
          "name": "stdout",
          "text": [
            "*       *\n",
            "*       *\n",
            "* * * * *\n",
            "*       *\n",
            "*       *\n"
          ]
        }
      ]
    },
    {
      "cell_type": "code",
      "source": [
        "for y in range(0,5):\n",
        "  if y==0:\n",
        "    print(\"* * * * *\")\n",
        "  elif y==1:\n",
        "    print(\"*\")\n",
        "  elif y==2:\n",
        "    print(\"*     *  *  *\")\n",
        "  elif y==3:\n",
        "    print(\"*     *     *\")\n",
        "  else:\n",
        "    print(\"* * * *     *\")"
      ],
      "metadata": {
        "colab": {
          "base_uri": "https://localhost:8080/"
        },
        "id": "DIt6X_jzMHRf",
        "outputId": "b744e9aa-37be-499e-9dca-a5a1a0282785"
      },
      "execution_count": null,
      "outputs": [
        {
          "output_type": "stream",
          "name": "stdout",
          "text": [
            "* * * * *\n",
            "*\n",
            "*     *  *  *\n",
            "*     *     *\n",
            "* * * *     *\n"
          ]
        }
      ]
    },
    {
      "cell_type": "code",
      "source": [
        "for y in range(0,5):\n",
        "  if y==0 or y==4:\n",
        "    print(\"* * * * * * *\")\n",
        "  else:\n",
        "    print(\"     *       \")"
      ],
      "metadata": {
        "colab": {
          "base_uri": "https://localhost:8080/"
        },
        "id": "BSUjubhNQBeH",
        "outputId": "5840fcdc-80e2-4aeb-97dd-d265d59b264b"
      },
      "execution_count": null,
      "outputs": [
        {
          "output_type": "stream",
          "name": "stdout",
          "text": [
            "* * * * * * *\n",
            "     *       \n",
            "     *       \n",
            "     *       \n",
            "* * * * * * *\n"
          ]
        }
      ]
    },
    {
      "cell_type": "code",
      "source": [
        "for y in range(0,5):\n",
        "  if y==0:\n",
        "    print(\"* * * * * *\")\n",
        "  elif y==1 or y==2 or y==3:\n",
        "    print(\"     *    \")\n",
        "  else:\n",
        "    print(\"* * * \")"
      ],
      "metadata": {
        "colab": {
          "base_uri": "https://localhost:8080/"
        },
        "id": "cZjJ0Z_LQzV8",
        "outputId": "de7a8f4d-6c2f-4fa0-c644-5ff42f3d7e8c"
      },
      "execution_count": null,
      "outputs": [
        {
          "output_type": "stream",
          "name": "stdout",
          "text": [
            "* * * * * *\n",
            "     *    \n",
            "     *    \n",
            "     *    \n",
            "* * * \n"
          ]
        }
      ]
    },
    {
      "cell_type": "code",
      "source": [
        "\n",
        "for y in range(1,8):\n",
        "  if y==1 or y==7:\n",
        "    print(\"*     *\")\n",
        "  elif y==2 or y==6:\n",
        "    print(\"*   *  \")\n",
        "  elif y==3 or y==5:\n",
        "    print(\"* *    \")\n",
        "  else:\n",
        "    print(\"*      \")\n"
      ],
      "metadata": {
        "colab": {
          "base_uri": "https://localhost:8080/"
        },
        "id": "c-fT1FadScnm",
        "outputId": "642eae7b-1d25-47b1-edbd-64ff9529100b"
      },
      "execution_count": null,
      "outputs": [
        {
          "output_type": "stream",
          "name": "stdout",
          "text": [
            "*     *\n",
            "*   *  \n",
            "* *    \n",
            "*      \n",
            "* *    \n",
            "*   *  \n",
            "*     *\n"
          ]
        }
      ]
    },
    {
      "cell_type": "code",
      "source": [
        "for y in range (0,5):\n",
        "  if y==0 or y==1 or y==2 or y==3:\n",
        "    print(\"*\")\n",
        "  else:\n",
        "    print(\"* * * * * \")"
      ],
      "metadata": {
        "colab": {
          "base_uri": "https://localhost:8080/"
        },
        "id": "VDRLeFiKVmIS",
        "outputId": "9b996b14-3116-4528-e3a2-dceee3379e8b"
      },
      "execution_count": null,
      "outputs": [
        {
          "output_type": "stream",
          "name": "stdout",
          "text": [
            "*\n",
            "*\n",
            "*\n",
            "*\n",
            "* * * * * \n"
          ]
        }
      ]
    },
    {
      "cell_type": "code",
      "source": [
        "for y in range(0,6):\n",
        "  if y==0 or y==3 or y==4 or y==5:\n",
        "    print('*         *')\n",
        "  elif y==1:\n",
        "    print(\"*  *    * *  \")\n",
        "  else:\n",
        "    print('*    *    *  ')\n",
        "\n"
      ],
      "metadata": {
        "colab": {
          "base_uri": "https://localhost:8080/"
        },
        "id": "JJQVGx8yW85A",
        "outputId": "72a46ebd-9bde-4491-b594-4a0938c7fdcd"
      },
      "execution_count": null,
      "outputs": [
        {
          "output_type": "stream",
          "name": "stdout",
          "text": [
            "*         *\n",
            "*  *    * *  \n",
            "*    *    *  \n",
            "*         *\n",
            "*         *\n",
            "*         *\n"
          ]
        }
      ]
    },
    {
      "cell_type": "code",
      "source": [
        "for y in range(0,5):\n",
        "  if y==0:\n",
        "    print(\"*       *\")\n",
        "  elif y==1:\n",
        "    print(\"* *     *\")\n",
        "  elif y==2:\n",
        "    print(\"*   *   *\")\n",
        "  elif y==3:\n",
        "    print(\"*     * *\")\n",
        "  else:\n",
        "    print(\"*       *\")\n",
        "\n"
      ],
      "metadata": {
        "colab": {
          "base_uri": "https://localhost:8080/"
        },
        "id": "ReAxwK_ngcGD",
        "outputId": "d8ca1e2e-507d-46ed-adf8-42033ca69b79"
      },
      "execution_count": null,
      "outputs": [
        {
          "output_type": "stream",
          "name": "stdout",
          "text": [
            "*       *\n",
            "* *     *\n",
            "*   *   *\n",
            "*     * *\n",
            "*       *\n"
          ]
        }
      ]
    },
    {
      "cell_type": "code",
      "source": [
        "for y in range(0,5):\n",
        "  if y==0 or y==4:\n",
        "    print(\"  * * * * *  \")\n",
        "  elif y==1 or y==2 or y==3:\n",
        "    print(\" *         * \")"
      ],
      "metadata": {
        "colab": {
          "base_uri": "https://localhost:8080/"
        },
        "id": "cD8W-xrp-CDG",
        "outputId": "fbf80650-362f-4927-c532-daeddda24f82"
      },
      "execution_count": null,
      "outputs": [
        {
          "output_type": "stream",
          "name": "stdout",
          "text": [
            "  * * * * *  \n",
            " *         * \n",
            " *         * \n",
            " *         * \n",
            "  * * * * *  \n"
          ]
        }
      ]
    },
    {
      "cell_type": "code",
      "source": [
        "for y in range(0,6):\n",
        "  if y==0:\n",
        "    print(\"*   *   *\")\n",
        "  elif y==1:\n",
        "    print(\"*       *\")\n",
        "  elif y==2:\n",
        "    print(\"*  *  *\")\n",
        "  else:\n",
        "    print(\"*       \")"
      ],
      "metadata": {
        "colab": {
          "base_uri": "https://localhost:8080/"
        },
        "id": "Y9Q0TAuuALYV",
        "outputId": "9b507bd2-3978-4b0a-9e9b-333797aafa9c"
      },
      "execution_count": null,
      "outputs": [
        {
          "output_type": "stream",
          "name": "stdout",
          "text": [
            "*   *   *\n",
            "*       *\n",
            "*  *  *\n",
            "*       \n",
            "*       \n",
            "*       \n"
          ]
        }
      ]
    },
    {
      "cell_type": "code",
      "source": [
        "for y in range(0,6):\n",
        "  if y==0:\n",
        "    print(\"  * * *    \")\n",
        "  elif y==1:\n",
        "    print(\"* *     *  \")\n",
        "  elif y==2:\n",
        "    print(\"*   *   *  \")\n",
        "  elif y==3:\n",
        "    print(\"*     * *  \")\n",
        "  elif y==4:\n",
        "    print(\"  * * * *  \")\n",
        "  else:\n",
        "    print(\"          *\")\n"
      ],
      "metadata": {
        "colab": {
          "base_uri": "https://localhost:8080/"
        },
        "id": "sqg1tk46DJIN",
        "outputId": "4592bd98-f036-42e5-bc6b-b6fe23b37dd4"
      },
      "execution_count": null,
      "outputs": [
        {
          "output_type": "stream",
          "name": "stdout",
          "text": [
            "  * * *    \n",
            "* *     *  \n",
            "*   *   *  \n",
            "*     * *  \n",
            "  * * * *  \n",
            "          *\n"
          ]
        }
      ]
    },
    {
      "cell_type": "code",
      "source": [
        "for y in range(0,7):\n",
        "  if y==0 or y==3:\n",
        "    print(\"* * * * * *\")\n",
        "  elif y==1 or y==2:\n",
        "    print(\"*           *\")\n",
        "  elif y==4:\n",
        "    print(\"*   *\")\n",
        "  elif y==5:\n",
        "    print(\"*         *\")\n",
        "  else:\n",
        "      print(\"*           *\")"
      ],
      "metadata": {
        "colab": {
          "base_uri": "https://localhost:8080/"
        },
        "id": "ClBSZORoFxzV",
        "outputId": "fba1a96e-b4fc-46f1-daf6-928968332c88"
      },
      "execution_count": null,
      "outputs": [
        {
          "output_type": "stream",
          "name": "stdout",
          "text": [
            "* * * * * *\n",
            "*           *\n",
            "*           *\n",
            "* * * * * *\n",
            "*   *\n",
            "*      *\n",
            "*         *\n"
          ]
        }
      ]
    },
    {
      "cell_type": "code",
      "source": [
        "\n",
        "for y in range(1,10):\n",
        "  if y==1:\n",
        "    print(\"   * * * *\")\n",
        "  elif y==2 or y==3 or y==4:\n",
        "    print(\"  *        \")\n",
        "  elif y==6 or y==7 or y==8:\n",
        "    print(\"        *  \")\n",
        "  elif y==5:\n",
        "    print(\"    * *    \")\n",
        "  else:\n",
        "    print(\"* * * *     \")\n"
      ],
      "metadata": {
        "colab": {
          "base_uri": "https://localhost:8080/"
        },
        "id": "mejBnHeRG7-p",
        "outputId": "6cde17c8-ed5a-4d26-8870-b6456aefe8b1"
      },
      "execution_count": 5,
      "outputs": [
        {
          "output_type": "stream",
          "name": "stdout",
          "text": [
            "   * * * *\n",
            "  *        \n",
            "  *        \n",
            "  *        \n",
            "    * *    \n",
            "        *  \n",
            "        *  \n",
            "        *  \n",
            "* * * *     \n"
          ]
        }
      ]
    },
    {
      "cell_type": "code",
      "source": [
        "for y in range(1,8):\n",
        "  if y==1:\n",
        "    print(\"* * * * *\")\n",
        "  else:\n",
        "    print(\"    *    \")"
      ],
      "metadata": {
        "colab": {
          "base_uri": "https://localhost:8080/"
        },
        "id": "5Seqp2V1QGK4",
        "outputId": "7fd5431c-bbf6-48d4-bcbe-595b2bf4c589"
      },
      "execution_count": 8,
      "outputs": [
        {
          "output_type": "stream",
          "name": "stdout",
          "text": [
            "* * * * *\n",
            "    *    \n",
            "    *    \n",
            "    *    \n",
            "    *    \n",
            "    *    \n",
            "    *    \n"
          ]
        }
      ]
    },
    {
      "cell_type": "code",
      "source": [
        "for y in range(1,7):\n",
        "  if y==6:\n",
        "    print(\"  * * *  \")\n",
        "  else:\n",
        "    print(\"*       *\")"
      ],
      "metadata": {
        "colab": {
          "base_uri": "https://localhost:8080/"
        },
        "id": "cqIhaRapQX4R",
        "outputId": "81703da9-983b-4616-866c-0d827c981000"
      },
      "execution_count": 10,
      "outputs": [
        {
          "output_type": "stream",
          "name": "stdout",
          "text": [
            "*       *\n",
            "*       *\n",
            "*       *\n",
            "*       *\n",
            "*       *\n",
            "  * * *  \n"
          ]
        }
      ]
    },
    {
      "cell_type": "code",
      "source": [
        "\n",
        "for y in range(1,6):\n",
        "  if y==1:\n",
        "    print(\"*               *\")\n",
        "  elif y==2:\n",
        "    print(\"  *           *  \")\n",
        "  elif y==3:\n",
        "    print(\"    *       *    \")\n",
        "  elif y==4:\n",
        "    print(\"      *   *      \")\n",
        "  else:\n",
        "    print(\"        *        \")"
      ],
      "metadata": {
        "colab": {
          "base_uri": "https://localhost:8080/"
        },
        "id": "3Lv5VwgaQpgt",
        "outputId": "28655bc6-928b-4ecf-b0d4-9a885245d81c"
      },
      "execution_count": 15,
      "outputs": [
        {
          "output_type": "stream",
          "name": "stdout",
          "text": [
            "*               *\n",
            "  *           *  \n",
            "    *       *    \n",
            "      *   *      \n",
            "        *        \n"
          ]
        }
      ]
    },
    {
      "cell_type": "code",
      "source": [
        "for y in range(1,6):\n",
        "  if y==3:\n",
        "    print(\"*   *   *\")\n",
        "  elif y==4:\n",
        "    print(\"* *   * *\")\n",
        "  else:\n",
        "    print(\"*       *\")\n"
      ],
      "metadata": {
        "colab": {
          "base_uri": "https://localhost:8080/"
        },
        "id": "EwVef7HPRGum",
        "outputId": "7a5fb926-46fd-4827-dfaf-688d0a26a5a6"
      },
      "execution_count": 16,
      "outputs": [
        {
          "output_type": "stream",
          "name": "stdout",
          "text": [
            "*       *\n",
            "*       *\n",
            "*   *   *\n",
            "* *   * *\n",
            "*       *\n"
          ]
        }
      ]
    },
    {
      "cell_type": "code",
      "source": [
        "\n",
        "for y in range(1,9):\n",
        "  if y==1:\n",
        "    print(\"*               *\")\n",
        "  elif y==2:\n",
        "    print(\"  *           *  \")\n",
        "  elif y==3:\n",
        "    print(\"    *       *    \")\n",
        "  elif y==4:\n",
        "    print(\"      *   *      \")\n",
        "  else:\n",
        "    print(\"        *        \")"
      ],
      "metadata": {
        "colab": {
          "base_uri": "https://localhost:8080/"
        },
        "id": "RA3r60FQRO6-",
        "outputId": "0e784fcb-d1ba-4fad-977f-27ef5cfcf9c1"
      },
      "execution_count": 18,
      "outputs": [
        {
          "output_type": "stream",
          "name": "stdout",
          "text": [
            "*               *\n",
            "  *           *  \n",
            "    *       *    \n",
            "      *   *      \n",
            "        *        \n",
            "        *        \n",
            "        *        \n",
            "        *        \n"
          ]
        }
      ]
    },
    {
      "cell_type": "code",
      "source": [
        "for y in range(0,4):\n",
        "  if y==0:\n",
        "    print(\"* * * *\")\n",
        "  elif y==1:\n",
        "    print(\"    *  \")\n",
        "  elif y==2:\n",
        "    print(\"  *    \")\n",
        "  else:\n",
        "    print(\"* * * *\")"
      ],
      "metadata": {
        "colab": {
          "base_uri": "https://localhost:8080/"
        },
        "id": "QjTZsQpPRUde",
        "outputId": "3d6f5d0c-5e31-4684-fdb9-629b88856260"
      },
      "execution_count": 24,
      "outputs": [
        {
          "output_type": "stream",
          "name": "stdout",
          "text": [
            "* * * *\n",
            "    *  \n",
            "  *    \n",
            "* * * *\n"
          ]
        }
      ]
    }
  ]
}