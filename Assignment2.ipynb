{
  "nbformat": 4,
  "nbformat_minor": 0,
  "metadata": {
    "colab": {
      "provenance": [],
      "authorship_tag": "ABX9TyOxerrEfKUAgznabUlYgwIW",
      "include_colab_link": true
    },
    "kernelspec": {
      "name": "python3",
      "display_name": "Python 3"
    },
    "language_info": {
      "name": "python"
    }
  },
  "cells": [
    {
      "cell_type": "markdown",
      "metadata": {
        "id": "view-in-github",
        "colab_type": "text"
      },
      "source": [
        "<a href=\"https://colab.research.google.com/github/nithinravula7/python_code/blob/main/Assignment2.ipynb\" target=\"_parent\"><img src=\"https://colab.research.google.com/assets/colab-badge.svg\" alt=\"Open In Colab\"/></a>"
      ]
    },
    {
      "cell_type": "code",
      "execution_count": null,
      "metadata": {
        "colab": {
          "base_uri": "https://localhost:8080/"
        },
        "id": "n4DRA2ygjYiq",
        "outputId": "b8a970ea-e9b2-4bfa-df96-631b4ede3fcf"
      },
      "outputs": [
        {
          "output_type": "stream",
          "name": "stdout",
          "text": [
            "Enter the first number: 78\n",
            "Enter the second number: 67\n",
            "Multiplication: 5226.0\n",
            "Division: 1.164179104477612\n"
          ]
        }
      ],
      "source": [
        "#1.Write a program to accept two numbers from the user and calculate multiplication, division\n",
        "num1 = float(input(\"Enter the first number: \"))\n",
        "num2 = float(input(\"Enter the second number: \"))\n",
        "multiplication = num1 * num2\n",
        "if num2 != 0:\n",
        "    division = num1 / num2\n",
        "else:\n",
        "    division = \"Undefined\"\n",
        "print(\"Multiplication:\", multiplication)\n",
        "print(\"Division:\", division)"
      ]
    },
    {
      "cell_type": "code",
      "source": [
        "#2. Write a python program to print the characters from a string that are present at an even index\n",
        "string1=input(\"enter any string: \")\n",
        "y=0\n",
        "even_str=\"\"\n",
        "while y<len(string1):\n",
        "  emp_str=even_str+string1[y]\n",
        "  y=y+2\n",
        "print(\"characters that are at even index\",even_str)\n",
        "\n",
        "\n"
      ],
      "metadata": {
        "colab": {
          "base_uri": "https://localhost:8080/"
        },
        "id": "1QHQn_kSk-PF",
        "outputId": "6bce1ebb-616c-4c60-9c7f-f8e1c60423d0"
      },
      "execution_count": null,
      "outputs": [
        {
          "output_type": "stream",
          "name": "stdout",
          "text": [
            "enter any string: nithin\n",
            "characters that are at even index \n"
          ]
        }
      ]
    },
    {
      "cell_type": "code",
      "source": [
        "#3.Write a python program to print the characters from a string that are present at an odd index\n",
        "string1=input(\"enter any string: \")\n",
        "y=1\n",
        "odd_str=\"\"\n",
        "while y<len(string1):\n",
        "  odd_str=odd_str+string1[y]\n",
        "  y=y+2\n",
        "print(\"characters that are at odd index\",odd_str)"
      ],
      "metadata": {
        "colab": {
          "base_uri": "https://localhost:8080/"
        },
        "id": "OWNw4DFqrO6N",
        "outputId": "2bc54b04-8065-4aab-d2b7-0b2745fddb5d"
      },
      "execution_count": null,
      "outputs": [
        {
          "output_type": "stream",
          "name": "stdout",
          "text": [
            "enter any string: nithin\n",
            "characters that are at odd index ihn\n"
          ]
        }
      ]
    },
    {
      "cell_type": "code",
      "source": [
        "#4.Write a python program which will print the sum of the two numbers if the two numbers are even or it will print the difference of two\n",
        "num1=int(input(\"enter any number\"))\n",
        "num2=int(input(\"enter any number\"))\n",
        "if num1 %2==0 and num2 %2==0:\n",
        "  print(\"the sum of num1 and num2 : \",num1+num2)\n",
        "else:\n",
        "  print(\"the difference of num1 and num2 : \",num1-num2)\n",
        "\n",
        "\n",
        "\n",
        "\n"
      ],
      "metadata": {
        "colab": {
          "base_uri": "https://localhost:8080/"
        },
        "id": "OREdSfe5rsBA",
        "outputId": "95ea32e3-edf2-4724-daf1-02110c97182c"
      },
      "execution_count": null,
      "outputs": [
        {
          "output_type": "stream",
          "name": "stdout",
          "text": [
            "enter any number3\n",
            "enter any number5\n",
            "the difference of num1 and num2 :  -2\n"
          ]
        }
      ]
    },
    {
      "cell_type": "code",
      "source": [
        "#5.Write a python program to convert all even indexed characters to uppercase and odd indexed characters to lowercase\n",
        "str1=input(\"enter any string: \")\n",
        "y=0\n",
        "newstr=\"\"\n",
        "while y<len(str1):\n",
        "  if y%2==0:\n",
        "    newstr=newstr+str1[y].upper()\n",
        "  else:\n",
        "    newstr=newstr+str1[y].lower()\n",
        "  y=y+1\n",
        "print(newstr)\n"
      ],
      "metadata": {
        "colab": {
          "base_uri": "https://localhost:8080/"
        },
        "id": "YxH-fSZ9-AZl",
        "outputId": "db93ecda-7841-4270-b757-892a291f67e5"
      },
      "execution_count": null,
      "outputs": [
        {
          "output_type": "stream",
          "name": "stdout",
          "text": [
            "enter any string: nithin\n",
            "NiThIn\n"
          ]
        }
      ]
    },
    {
      "cell_type": "code",
      "source": [
        "#6.Write a python program which will print True if the input number is divisible by 5 or else False\n",
        "num1=int(input(\"enter any number: \"))\n",
        "if num1%5==0:\n",
        "   print(\"the number is divisible by 5 \")\n",
        "else:\n",
        "   print(\"the number is not divisible by 5 \")"
      ],
      "metadata": {
        "colab": {
          "base_uri": "https://localhost:8080/"
        },
        "id": "lujKacqmB4EO",
        "outputId": "25ebfcab-ea32-4067-a199-0875c63a0d5b"
      },
      "execution_count": null,
      "outputs": [
        {
          "output_type": "stream",
          "name": "stdout",
          "text": [
            "enter any number: 20\n",
            "the number is divisible by 5 \n"
          ]
        }
      ]
    },
    {
      "cell_type": "code",
      "source": [
        "#7.Given two integer numbers return their product only if the product is greater than 1000, else return their sum\n",
        "num1=int(input(\"enter any number: \"))\n",
        "num2=int(input(\"enter any number: \"))\n",
        "if num1*num2 > 1000:\n",
        "  print(\"the product of {} and {} is {}\".format(num1,num2,num1*num2))\n",
        "else:\n",
        "  print(\"the sum of {} and {} is {}\".format(num1,num2,num1+num2))\n",
        "\n"
      ],
      "metadata": {
        "colab": {
          "base_uri": "https://localhost:8080/"
        },
        "id": "9ZeETWhfDkcT",
        "outputId": "d9e9f158-8ba7-484e-aca4-0ad93d6cabcb"
      },
      "execution_count": null,
      "outputs": [
        {
          "output_type": "stream",
          "name": "stdout",
          "text": [
            "enter any number: 20\n",
            "enter any number: 30\n",
            "the sum of 20 and 30 is 50\n"
          ]
        }
      ]
    },
    {
      "cell_type": "code",
      "source": [
        "#8.Given two strings x, y writes a program to return a new string made of x and y’s first, middle, and last characters\n",
        "string_1=input(\"enter string of odd length: \")\n",
        "string_2=input(\"enter string of equal length as x: \")\n",
        "x=0\n",
        "nstr=\"\"\n",
        "while x<len(string_1) and x<len(string_2):\n",
        "  nstr=nstr+string_1[x]+string_2[x]\n",
        "  x=x+int((len(string_1)-1)/2)\n",
        "print(\"output:\",nstr)\n",
        "\n"
      ],
      "metadata": {
        "id": "bs8t_034FglS",
        "colab": {
          "base_uri": "https://localhost:8080/"
        },
        "outputId": "d23dd9e7-33cd-4abd-e876-6a4055bc5c5f"
      },
      "execution_count": null,
      "outputs": [
        {
          "output_type": "stream",
          "name": "stdout",
          "text": [
            "enter string of odd length: nitin\n",
            "enter string of equal length as x: salar\n",
            "output: nstlnr\n"
          ]
        }
      ]
    },
    {
      "cell_type": "code",
      "source": [
        "#9.Write a python program to take three names as input from a user in the single input () function call\n",
        "\n",
        "x=1\n",
        "while x<=3:\n",
        " string=input(\"Enter a name: \")\n",
        " x=x+1\n",
        " print(\"name{} is {}\".format(x-1,string))"
      ],
      "metadata": {
        "colab": {
          "base_uri": "https://localhost:8080/"
        },
        "id": "6v7-UdyQ-pYy",
        "outputId": "cfe7f32e-9dda-4739-f009-5627ebb71ea2"
      },
      "execution_count": null,
      "outputs": [
        {
          "output_type": "stream",
          "name": "stdout",
          "text": [
            "Enter a name: nithin\n",
            "name1 is nithin\n",
            "Enter a name: malli\n",
            "name2 is malli\n",
            "Enter a name: litty\n",
            "name3 is litty\n"
          ]
        }
      ]
    },
    {
      "cell_type": "code",
      "source": [
        "#12.Write a python program that accepts two inputs num1 and num2 print True if one of them is 10 or if their sum is 10 otherwise print False\n",
        "num1=int(input(\"Enter first number: \"))\n",
        "num2=int(input(\"Enter second number: \"))\n",
        "if num1==10 or num2==10 or num1+num2==10:\n",
        " print('True')\n",
        "else:\n",
        " print('False')\n"
      ],
      "metadata": {
        "id": "CRKCypCTFqHv",
        "colab": {
          "base_uri": "https://localhost:8080/"
        },
        "outputId": "57b9c8d7-36df-440d-f27a-1a3fd33526ba"
      },
      "execution_count": null,
      "outputs": [
        {
          "output_type": "stream",
          "name": "stdout",
          "text": [
            "Enter first number: 5\n",
            "Enter second number: 10\n",
            "True\n"
          ]
        }
      ]
    },
    {
      "cell_type": "code",
      "source": [
        "#13.Write a python program that accepts three inputs x, y and z print True if x*y>z otherwise False\n",
        "x=int(input(\"Enter first number: \"))\n",
        "y=int(input(\"Enter second number: \"))\n",
        "z=int(input(\"Enter third number: \"))\n",
        "if (x*y)>z:\n",
        " print('True')\n",
        "else:\n",
        " print('False')"
      ],
      "metadata": {
        "colab": {
          "base_uri": "https://localhost:8080/"
        },
        "id": "ZB_5nmiN_6XE",
        "outputId": "deb00c57-c1a8-4cdb-9aa9-0e3f09e68db1"
      },
      "execution_count": null,
      "outputs": [
        {
          "output_type": "stream",
          "name": "stdout",
          "text": [
            "Enter first number: 20\n",
            "Enter second number: 30\n",
            "Enter third number: 45\n",
            "True\n"
          ]
        }
      ]
    },
    {
      "cell_type": "code",
      "source": [
        "#Write a python program that accepts two strings inputs\n",
        "#return True depending on whether the total number of\n",
        "#characters in the first string is equal to the total number of\n",
        "#characters in the second string\n",
        "x=input(\"Enter a string:\")\n",
        "y=input(\"Enter another string: \")\n",
        "if len(x)==len(y):\n",
        " print('True')\n",
        "else:\n",
        " print('False')\n"
      ],
      "metadata": {
        "colab": {
          "base_uri": "https://localhost:8080/"
        },
        "id": "mKc4XI0fANX0",
        "outputId": "90746604-cc7a-4de8-dc53-b7d655ce9ebe"
      },
      "execution_count": null,
      "outputs": [
        {
          "output_type": "stream",
          "name": "stdout",
          "text": [
            "Enter a string:nithin\n",
            "Enter another string: nitin\n",
            "False\n"
          ]
        }
      ]
    },
    {
      "cell_type": "code",
      "source": [
        "#15) Write a python program that takes a string input, we'll say\n",
        "#that the front is the first three characters of the string. If the\n",
        "#string length is less than three characters, the front is\n",
        "#whatever is there. Return a new string, which is three copies\n",
        "#of the front\n",
        "str=input(\"Enter a string: \")\n",
        "if len(str)<3:\n",
        " print(str)\n",
        "else:\n",
        " print(str[0:3]*3)\n"
      ],
      "metadata": {
        "colab": {
          "base_uri": "https://localhost:8080/"
        },
        "id": "euLQ0jEQAtNz",
        "outputId": "7428577f-a704-4946-8b5d-cff9cadd8330"
      },
      "execution_count": null,
      "outputs": [
        {
          "output_type": "stream",
          "name": "stdout",
          "text": [
            "Enter a string: nithin\n",
            "nitnitnit\n"
          ]
        }
      ]
    },
    {
      "cell_type": "code",
      "source": [
        "\n",
        "#Write a python program that takes in a word and\n",
        "#determines whether or not it is plural. A plural word is one\n",
        "#that ends in \"s\".\n",
        "x=input(\"enter any string: \")\n",
        "if x[-1]==\"s\":\n",
        "  print(\"{} is plural\".format(x))\n",
        "else:\n",
        "  print(\"{} it is not plural\".format(x))\n",
        "\n"
      ],
      "metadata": {
        "colab": {
          "base_uri": "https://localhost:8080/"
        },
        "id": "XxhP38ABCzE4",
        "outputId": "7027008c-ddfb-4151-8e06-361969f9cd65"
      },
      "execution_count": null,
      "outputs": [
        {
          "output_type": "stream",
          "name": "stdout",
          "text": [
            "enter any string: balls\n",
            "balls is plural\n"
          ]
        }
      ]
    },
    {
      "cell_type": "code",
      "source": [
        "#17) A bartender is writing a simple program to determine\n",
        "#whether he should serve drinks to someone. He only serves\n",
        "#drinks to people 18 and older and when he's not on break\n",
        "#(True means break and False means not a break time). Given\n",
        "#the person's age, and whether break time is in session, create\n",
        "#a python program which prints whether he should serve\n",
        "#drinks or not\n",
        "age=int(input(\"enter any age: \"))\n",
        "brk=input(\"whether he is in break or not: \")\n",
        "if age>=18 and (brk==\"false\" or brk==\"F\"):\n",
        "  print(\"the bartender can serve the drink\")\n",
        "elif age<18 and (brk==\"false\"or brk==\"F\" ) or (brk==\"T\" or brk==\"true\"):\n",
        "  print(\"the bartender cannot serve the drink\")\n",
        "elif age>=18 and (brk==\"true\" or brk==\"T\"):\n",
        "  print(\"the bartender cannot serve the drink\")\n",
        "else:\n",
        "  print(\"no result\")\n"
      ],
      "metadata": {
        "colab": {
          "base_uri": "https://localhost:8080/"
        },
        "id": "_iCtVoKYEJ0q",
        "outputId": "ab9d408e-0365-4723-da4e-53baca4c31a2"
      },
      "execution_count": null,
      "outputs": [
        {
          "output_type": "stream",
          "name": "stdout",
          "text": [
            "enter any age: 17\n",
            "whether he is in break or not: T\n",
            "the bartender cannot serve the drink\n"
          ]
        }
      ]
    },
    {
      "cell_type": "code",
      "source": [
        "#20) Create a dynamic calculator which asks for numbers and operator and return the answers\n",
        "\n",
        "num1=int(input(\"Enter a number: \"))\n",
        "symbol=input(\"Enter an arithemtic operator symbol: \")\n",
        "num2=int(input(\"Enter another number: \"))\n",
        "if symbol==\"+\":\n",
        "  print(\"{}+{}={}\".format(num1,num2,num1+num2))\n",
        "elif symbol==\"-\":\n",
        "  print(\"{}-{}={}\".format(num1,num2,num1-num2))\n",
        "elif symbol==\"*\":\n",
        "  print(\"{}-{}={}\".format(num1,num2,num1*num2))\n",
        "elif symbol==\"/\":\n",
        "  print(\"{}/{}={}\".format(num1,num2,num1/num2))\n",
        "elif symbol==\"//\":\n",
        "  print(\"{}//{}={}\".format(num1,num2,num1//num2))\n",
        "elif symbol==\"%\":\n",
        "  print(\"{}%{}={}\".format(num1,num2,num1%num2))\n",
        "elif symbol==\"**\":\n",
        "  print(\"{}**{}={}\".format(num1,num2,num1**num2))\n",
        "else:\n",
        "  print(\"No result\")\n"
      ],
      "metadata": {
        "colab": {
          "base_uri": "https://localhost:8080/"
        },
        "id": "N6wT9Zb9Mn3e",
        "outputId": "d02793a7-cb34-4d70-dd14-6345bef3b1af"
      },
      "execution_count": null,
      "outputs": [
        {
          "output_type": "stream",
          "name": "stdout",
          "text": [
            "Enter a number: 34\n",
            "Enter an arithemtic operator symbol: *\n",
            "Enter another number: 45\n",
            "34-45=1530\n"
          ]
        }
      ]
    }
  ]
}