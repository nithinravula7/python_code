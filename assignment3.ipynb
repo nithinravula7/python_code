{
  "nbformat": 4,
  "nbformat_minor": 0,
  "metadata": {
    "colab": {
      "provenance": [],
      "authorship_tag": "ABX9TyMiP7u2bu2JDYECQXUrn6af",
      "include_colab_link": true
    },
    "kernelspec": {
      "name": "python3",
      "display_name": "Python 3"
    },
    "language_info": {
      "name": "python"
    }
  },
  "cells": [
    {
      "cell_type": "markdown",
      "metadata": {
        "id": "view-in-github",
        "colab_type": "text"
      },
      "source": [
        "<a href=\"https://colab.research.google.com/github/nithinravula7/python_code/blob/main/assignment3.ipynb\" target=\"_parent\"><img src=\"https://colab.research.google.com/assets/colab-badge.svg\" alt=\"Open In Colab\"/></a>"
      ]
    },
    {
      "cell_type": "code",
      "execution_count": null,
      "metadata": {
        "colab": {
          "base_uri": "https://localhost:8080/"
        },
        "id": "-CgwvkqXHfU8",
        "outputId": "9f3af371-a10b-4c95-d5a0-1dcaf77be12a"
      },
      "outputs": [
        {
          "output_type": "stream",
          "name": "stdout",
          "text": [
            "0\n",
            "1\n",
            "2\n",
            "4\n",
            "5\n"
          ]
        }
      ],
      "source": [
        "#1.Write a Python program that prints all the numbers from 0 to 6 except 3 and 6\n",
        "x=0\n",
        "while x<=6:\n",
        "  if x%3!=0 or x==0:\n",
        "    print(x)\n",
        "  x=x+1\n",
        "\n",
        "\n"
      ]
    },
    {
      "cell_type": "code",
      "source": [
        "#2.Write a program to accept a number from a user and calculate the sum of all numbers from 1 to a given number\n",
        "num1=int(input(\"Enter a number: \"))\n",
        "x=1\n",
        "sum=0\n",
        "while x<=num1:\n",
        "  sum=sum+x\n",
        "  x=x+1\n",
        "print(sum)\n"
      ],
      "metadata": {
        "colab": {
          "base_uri": "https://localhost:8080/"
        },
        "id": "LLyeBmuNId7y",
        "outputId": "43297449-c941-4555-efd9-b6fd495a1839"
      },
      "execution_count": null,
      "outputs": [
        {
          "output_type": "stream",
          "name": "stdout",
          "text": [
            "Enter a number: 190\n",
            "18145\n"
          ]
        }
      ]
    },
    {
      "cell_type": "code",
      "source": [
        "#3.Write a program to print multiplication table of a given number(input)\n",
        "x=int(input(\"Enter a number: \"))\n",
        "y=1\n",
        "print(\"The multiplication table of {} upto 10 multiples is given by: \".format(x))\n",
        "while y<=10:\n",
        "  print(\"{}*{}={}\".format(x,y,x*y))\n",
        "  y=y+1\n"
      ],
      "metadata": {
        "colab": {
          "base_uri": "https://localhost:8080/"
        },
        "id": "12bf_W84Ixe0",
        "outputId": "7e6cb198-61fe-4ac6-faa5-d393f70f938d"
      },
      "execution_count": null,
      "outputs": [
        {
          "output_type": "stream",
          "name": "stdout",
          "text": [
            "Enter a number: 7\n",
            "The multiplication table of 7 upto 10 multiples is given by: \n",
            "7*1=7\n",
            "7*2=14\n",
            "7*3=21\n",
            "7*4=28\n",
            "7*5=35\n",
            "7*6=42\n",
            "7*7=49\n",
            "7*8=56\n",
            "7*9=63\n",
            "7*10=70\n"
          ]
        }
      ]
    },
    {
      "cell_type": "code",
      "source": [
        "#Write a program to count the total number of digits in a number using a while loop\n",
        "num = int(input(\"Enter a number: \"))\n",
        "count = 0\n",
        "\n",
        "while num > 0:\n",
        "  num //= 10\n",
        "  count=count+1\n",
        "\n",
        "print(\"Total number of digits:\", count)\n"
      ],
      "metadata": {
        "colab": {
          "base_uri": "https://localhost:8080/"
        },
        "id": "OYPGEvcSI_KB",
        "outputId": "6008ef1e-fab2-4d8e-f88f-1b1e278d595f"
      },
      "execution_count": null,
      "outputs": [
        {
          "output_type": "stream",
          "name": "stdout",
          "text": [
            "Enter a number: 50000\n",
            "Total number of digits: 5\n"
          ]
        }
      ]
    },
    {
      "cell_type": "code",
      "source": [
        "#6.Write a Python program which iterates the integers from 1 to 60. For multiples of three print \"Fizz\" instead of the number and for the\n",
        "#number and for the multiples of five print \"Buzz\". For\n",
        "#numbers which are multiples of both three and five print \"FizzBuzz\".\n",
        "x=1\n",
        "while x<=60:\n",
        "  if x%3==0 and x%5==0:\n",
        "    print(\"fizzbuzz\")\n",
        "  elif x%3==0:\n",
        "    print(\"fizz\")\n",
        "  elif x%5==0:\n",
        "    print(\"buzz\")\n",
        "  else:\n",
        "    print(x)\n",
        "  x=x+1"
      ],
      "metadata": {
        "colab": {
          "base_uri": "https://localhost:8080/"
        },
        "id": "fyLLcmlHKJHS",
        "outputId": "520766fe-8299-494e-c4bc-022308614fa8"
      },
      "execution_count": null,
      "outputs": [
        {
          "output_type": "stream",
          "name": "stdout",
          "text": [
            "1\n",
            "2\n",
            "fizz\n",
            "4\n",
            "buzz\n",
            "fizz\n",
            "7\n",
            "8\n",
            "fizz\n",
            "buzz\n",
            "11\n",
            "fizz\n",
            "13\n",
            "14\n",
            "fizzbuzz\n",
            "16\n",
            "17\n",
            "fizz\n",
            "19\n",
            "buzz\n",
            "fizz\n",
            "22\n",
            "23\n",
            "fizz\n",
            "buzz\n",
            "26\n",
            "fizz\n",
            "28\n",
            "29\n",
            "fizzbuzz\n",
            "31\n",
            "32\n",
            "fizz\n",
            "34\n",
            "buzz\n",
            "fizz\n",
            "37\n",
            "38\n",
            "fizz\n",
            "buzz\n",
            "41\n",
            "fizz\n",
            "43\n",
            "44\n",
            "fizzbuzz\n",
            "46\n",
            "47\n",
            "fizz\n",
            "49\n",
            "buzz\n",
            "fizz\n",
            "52\n",
            "53\n",
            "fizz\n",
            "buzz\n",
            "56\n",
            "fizz\n",
            "58\n",
            "59\n",
            "fizzbuzz\n"
          ]
        }
      ]
    },
    {
      "cell_type": "code",
      "source": [
        "string = input(\"Enter a string: \")\n",
        "digit_count = 0\n",
        "letter_count = 0\n",
        "\n",
        "index = 0\n",
        "while index < len(string):\n",
        "    if string[index].isdigit():\n",
        "        digit_count += 1\n",
        "    elif string[index].isalpha():\n",
        "        letter_count += 1\n",
        "    else:\n",
        "      print(\"no result\")\n",
        "    index=index+1\n",
        "\n",
        "\n",
        "print(\"Digits:\", digit_count, \"Letters:\", letter_count)"
      ],
      "metadata": {
        "colab": {
          "base_uri": "https://localhost:8080/"
        },
        "id": "BYGvdkBTL62r",
        "outputId": "d28343ba-7b8d-4e71-edf6-232a2172e644"
      },
      "execution_count": null,
      "outputs": [
        {
          "output_type": "stream",
          "name": "stdout",
          "text": [
            "Enter a string: nithin5678\n",
            "Digits: 4 Letters: 6\n"
          ]
        }
      ]
    },
    {
      "cell_type": "code",
      "source": [
        "#9.Write a program in Python to reverse a word by using while loop\n",
        "word = input(\"Enter a word: \")\n",
        "reversed_word = \"\"\n",
        "\n",
        "index = len(word) - 1\n",
        "while index >= 0:\n",
        "    reversed_word += word[index]\n",
        "    index -= 1\n",
        "\n",
        "print(\"Reversed word:\", reversed_word)"
      ],
      "metadata": {
        "colab": {
          "base_uri": "https://localhost:8080/"
        },
        "id": "U1vE0B_FNISJ",
        "outputId": "617a7fa7-0911-4bf3-e33b-81608b11ee83"
      },
      "execution_count": null,
      "outputs": [
        {
          "output_type": "stream",
          "name": "stdout",
          "text": [
            "Enter a word: nithin\n",
            "Reversed word: nihtin\n"
          ]
        }
      ]
    },
    {
      "cell_type": "code",
      "source": [
        "#10.Write a program which takes 10 integers as input using loop and print their average value on the screen\n",
        "x=0\n",
        "sum=0\n",
        "while x<10:\n",
        " int1=int(input(\"Enter an integer: \"))\n",
        " sum=sum+int1\n",
        " x=x+1\n",
        "print(\"Average of the entered integers is : {}\".format(sum/x))\n"
      ],
      "metadata": {
        "colab": {
          "base_uri": "https://localhost:8080/"
        },
        "id": "Y-yJBBqbPHor",
        "outputId": "0b896d1d-2fde-4b89-ca0c-3dbc05bb94f0"
      },
      "execution_count": null,
      "outputs": [
        {
          "output_type": "stream",
          "name": "stdout",
          "text": [
            "Enter an integer: 2\n",
            "Enter an integer: 4\n",
            "Enter an integer: 8\n",
            "Enter an integer: 10\n",
            "Enter an integer: 11\n",
            "Enter an integer: 8\n",
            "Enter an integer: 9\n",
            "Enter an integer: 98\n",
            "Enter an integer: 34\n",
            "Enter an integer: 45\n",
            "Average of the entered integers is : 22.9\n"
          ]
        }
      ]
    },
    {
      "cell_type": "code",
      "source": [
        "#11.Write a program which takes integer inputs from user until he/she presses “q” (Ask to press q to quit after every integer input). Print average and product of all numbers.\n",
        "x=0\n",
        "sum=0\n",
        "product=1\n",
        "while x<=10000:\n",
        "  num=int(input(\"Enter a number: \"))\n",
        "  ask=input('Press q  to quit: ')\n",
        "  if ask!='q':\n",
        "    print('.......')\n",
        "  else:\n",
        "    print('Input stopped')\n",
        "    x=x+10000\n",
        "  sum=sum+num\n",
        "  product=product*num\n",
        "  x=x+1\n",
        "print(\"Average of the entered numbers is {}:\".format(sum/(x-10000)))\n",
        "print(\"Product of the entered numbers is {}:\".format(product))\n"
      ],
      "metadata": {
        "colab": {
          "base_uri": "https://localhost:8080/"
        },
        "id": "IiJ--vX4RRKB",
        "outputId": "e5bb9fe5-4619-4d93-cdf7-ea048e6a1e0e"
      },
      "execution_count": null,
      "outputs": [
        {
          "output_type": "stream",
          "name": "stdout",
          "text": [
            "Enter a number: 2\n",
            "Press q  to quit: \n",
            ".......\n",
            "Enter a number: 12\n",
            "Press q  to quit: \n",
            ".......\n",
            "Enter a number: 13\n",
            "Press q  to quit: q\n",
            "Input stopped\n",
            "Average of the entered numbers is 9.0:\n",
            "Product of the entered numbers is 312:\n"
          ]
        }
      ]
    },
    {
      "cell_type": "code",
      "source": [
        "#13.Write a python program to find the sum of all even numbers from 0 to 10\n",
        "x=0\n",
        "sum=0\n",
        "while x<=10:\n",
        "  sum=sum+x\n",
        "  x=x+2\n",
        "print(\"Sum of all even numbers from 0 to 10 is: {}\".format(sum))"
      ],
      "metadata": {
        "colab": {
          "base_uri": "https://localhost:8080/"
        },
        "id": "Gu-PNjgkR5f7",
        "outputId": "bccdc471-fd1e-4786-d50c-bd97ba240cfe"
      },
      "execution_count": null,
      "outputs": [
        {
          "output_type": "stream",
          "name": "stdout",
          "text": [
            "Sum of all even numbers from 0 to 10 is: 30\n"
          ]
        }
      ]
    },
    {
      "cell_type": "code",
      "source": [
        "#14.Write a python program which will accept a digit and print all the numbers before it till 0\n",
        "x=int(input(\"Enter a digit: \"))-1\n",
        "while x>=0:\n",
        "  print(x)\n",
        "  x=x-1"
      ],
      "metadata": {
        "colab": {
          "base_uri": "https://localhost:8080/"
        },
        "id": "rv9J9o3hSdnW",
        "outputId": "21f94a5b-e997-4789-fcbb-bea0f9f56205"
      },
      "execution_count": null,
      "outputs": [
        {
          "output_type": "stream",
          "name": "stdout",
          "text": [
            "Enter a digit: 5\n",
            "4\n",
            "3\n",
            "2\n",
            "1\n",
            "0\n"
          ]
        }
      ]
    },
    {
      "cell_type": "code",
      "source": [
        "#15.Create a dynamic calculator that will run continually until you press 'c'.\n",
        "x=1\n",
        "while x<=10000:\n",
        "  num_1=int(input(\"Enter a number: \"))\n",
        "  symbol=input(\"Enter an arithemetic operation[+,-,*,/,//,%,**] : \")\n",
        "  num_2=int(input(\"Enter another number: \"))\n",
        "  if symbol=='+':\n",
        "    print(\"{}{}{}={}\".format(num_1,symbol,num_2,num_1+num_2))\n",
        "  elif symbol=='-':\n",
        "    print(\"{}{}{}={}\".format(num_1,symbol,num_2,num_1-num_2))\n",
        "  elif symbol=='*':\n",
        "    print(\"{}{}{}={}\".format(num_1,symbol,num_2,num_1*num_2))\n",
        "  elif symbol=='/':\n",
        "    print(\"{}{}{}={}\".format(num_1,symbol,num_2,num_1/num_2))\n",
        "  elif symbol=='//':\n",
        "    print(\"{}{}{}={}\".format(num_1,symbol,num_2,num_1//num_2))\n",
        "  elif symbol=='%':\n",
        "    print(\"{}{}{}={}\".format(num_1,symbol,num_2,num_1%num_2))\n",
        "  elif symbol=='**':\n",
        "    print(\"{}{}{}={}\".format(num_1,symbol,num_2,num_1**num_2))\n",
        "  else:\n",
        "    print('No result')\n",
        "  x=x+1\n",
        "  ask=input(\"Enter c to stop: \")\n",
        "  if ask=='C':\n",
        "    print('over')\n",
        "    x=x+10000\n",
        "  else:\n",
        "    print('over')"
      ],
      "metadata": {
        "colab": {
          "base_uri": "https://localhost:8080/"
        },
        "id": "_I90VpI-S14q",
        "outputId": "7adb9c1c-906d-4c42-9ae5-9a4acfcbe906"
      },
      "execution_count": null,
      "outputs": [
        {
          "output_type": "stream",
          "name": "stdout",
          "text": [
            "Enter a number: 7\n",
            "Enter an arithemetic operation[+,-,*,/,//,%,**] : +\n",
            "Enter another number: 5\n",
            "7+5=12\n",
            "Enter c to stop: c\n",
            "over\n"
          ]
        }
      ]
    }
  ]
}