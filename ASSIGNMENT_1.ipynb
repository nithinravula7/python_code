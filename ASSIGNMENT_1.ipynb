{
  "nbformat": 4,
  "nbformat_minor": 0,
  "metadata": {
    "colab": {
      "provenance": []
    },
    "kernelspec": {
      "name": "python3",
      "display_name": "Python 3"
    },
    "language_info": {
      "name": "python"
    }
  },
  "cells": [
    {
      "cell_type": "code",
      "execution_count": 2,
      "metadata": {
        "colab": {
          "base_uri": "https://localhost:8080/",
          "height": 36
        },
        "id": "WOYRAQGR7M7O",
        "outputId": "d09b4cf6-df5d-42ca-e921-7e88fa0f0a5d"
      },
      "outputs": [
        {
          "output_type": "execute_result",
          "data": {
            "text/plain": [
              "'python'"
            ],
            "application/vnd.google.colaboratory.intrinsic+json": {
              "type": "string"
            }
          },
          "metadata": {},
          "execution_count": 2
        }
      ],
      "source": [
        "# 1.Write a python program to convert a string to lower case\n",
        "x=\"PYTHON\"\n",
        "x.lower()"
      ]
    },
    {
      "cell_type": "code",
      "source": [
        "# 2.Write a python program to convert only odd indexed characters to lower case\n",
        "x=\"PYTHON\"\n",
        "x[0]+x[1].lower()+x[2]+x[3].lower()+x[4]+x[5].lower()\n"
      ],
      "metadata": {
        "colab": {
          "base_uri": "https://localhost:8080/",
          "height": 36
        },
        "id": "BptrE6o88t5Z",
        "outputId": "10744002-c993-4ead-b1bc-d6aff4eb1304"
      },
      "execution_count": 25,
      "outputs": [
        {
          "output_type": "execute_result",
          "data": {
            "text/plain": [
              "'PyThOn'"
            ],
            "application/vnd.google.colaboratory.intrinsic+json": {
              "type": "string"
            }
          },
          "metadata": {},
          "execution_count": 25
        }
      ]
    },
    {
      "cell_type": "code",
      "source": [
        "#3.Write a python program to convert only even indexed characters to lower case\n",
        "x=\"PYTHON\"\n",
        "x[0].lower()+x[1]+x[2].lower()+x[3]+x[4].lower()+x[5]\n",
        "\n"
      ],
      "metadata": {
        "colab": {
          "base_uri": "https://localhost:8080/",
          "height": 36
        },
        "id": "-9QsOZHZ9q8L",
        "outputId": "75345a02-cfa6-47a9-ac31-24d34c4598c6"
      },
      "execution_count": 26,
      "outputs": [
        {
          "output_type": "execute_result",
          "data": {
            "text/plain": [
              "'pYtHoN'"
            ],
            "application/vnd.google.colaboratory.intrinsic+json": {
              "type": "string"
            }
          },
          "metadata": {},
          "execution_count": 26
        }
      ]
    },
    {
      "cell_type": "code",
      "source": [
        "#4.Write a python program to convert only odd indexed characters to upper case\n",
        "x=\"python\"\n",
        "x[0]+x[1].upper()+x[2]+x[3].upper()+x[4]+x[5].upper()\n"
      ],
      "metadata": {
        "colab": {
          "base_uri": "https://localhost:8080/",
          "height": 36
        },
        "id": "-P-sMRsH9rLT",
        "outputId": "e3452deb-8786-41d0-8920-616f02d82604"
      },
      "execution_count": 28,
      "outputs": [
        {
          "output_type": "execute_result",
          "data": {
            "text/plain": [
              "'pYtHoN'"
            ],
            "application/vnd.google.colaboratory.intrinsic+json": {
              "type": "string"
            }
          },
          "metadata": {},
          "execution_count": 28
        }
      ]
    },
    {
      "cell_type": "code",
      "source": [
        "#5.Write a python program to convert only even indexed characters to upper cas\n",
        "x=\"python\"\n",
        "x[0].upper()+x[1]+x[2].upper()+x[3]+x[4].upper()+x[5]\n",
        "\n"
      ],
      "metadata": {
        "colab": {
          "base_uri": "https://localhost:8080/",
          "height": 36
        },
        "id": "ntbd4iuf9rve",
        "outputId": "993e2cbe-3183-444f-a3d0-7a34e1c2b30b"
      },
      "execution_count": 30,
      "outputs": [
        {
          "output_type": "execute_result",
          "data": {
            "text/plain": [
              "'PyThOn'"
            ],
            "application/vnd.google.colaboratory.intrinsic+json": {
              "type": "string"
            }
          },
          "metadata": {},
          "execution_count": 30
        }
      ]
    },
    {
      "cell_type": "code",
      "source": [
        "#6.Write a python program where you have differentvariable which contains your name ,sex,age,phone no ,fathers name and mothers name\n",
        "name=input(\"enter your name:\")\n",
        "age=input(\"enter your age:\")\n",
        "phone_no=input(\"enter your phoneno:\")\n",
        "fathers_name=input(\"enter your father name:\")\n",
        "mothers_name=input(\"enter your mother name:\")\n",
        "bio_data=\"my name is {},my age is {} ,my phoneno is  {},my fathersname is {},my mothername is {}\".format(name,age,phone_no,fathers_name,mothers_name)\n",
        "print(bio_data)\n"
      ],
      "metadata": {
        "colab": {
          "base_uri": "https://localhost:8080/"
        },
        "id": "LYBtulCE9r8N",
        "outputId": "bc0d2d52-ca90-4f77-cd44-6b3f45ce5bc4"
      },
      "execution_count": 6,
      "outputs": [
        {
          "output_type": "stream",
          "name": "stdout",
          "text": [
            "enter your name:nithin\n",
            "enter your age:19\n",
            "enter your phoneno:5465766587\n",
            "enter your father name:june\n",
            "enter your mother name:july\n",
            "my name is nithin,my age is 19 ,my phoneno is  5465766587,my fathersname is june,my mothername is july\n"
          ]
        }
      ]
    },
    {
      "cell_type": "code",
      "source": [
        "#7. Write a python program to count how many times “@” occurred\n",
        "x=\"@@@HVVBJHG^&^*ygghvhjjg@@@@hgvghv\"\n",
        "x.count(\"@\")"
      ],
      "metadata": {
        "colab": {
          "base_uri": "https://localhost:8080/"
        },
        "id": "JCqBSPnd9sIs",
        "outputId": "61aa90fe-562e-4f81-daba-42619c37e83b"
      },
      "execution_count": 9,
      "outputs": [
        {
          "output_type": "execute_result",
          "data": {
            "text/plain": [
              "7"
            ]
          },
          "metadata": {},
          "execution_count": 9
        }
      ]
    },
    {
      "cell_type": "code",
      "source": [
        "# 8.Write a python program to get only names from the string\n",
        "x=\"zack.@gmail.com,ravi.@gmail.com,rick.@gmail.com\"\n",
        "x.replace(\".@gmail.com\",\"\")"
      ],
      "metadata": {
        "colab": {
          "base_uri": "https://localhost:8080/",
          "height": 36
        },
        "id": "-4TuzGXL9scB",
        "outputId": "c5bae678-382e-4c56-ae69-2c75a0bf81a0"
      },
      "execution_count": 18,
      "outputs": [
        {
          "output_type": "execute_result",
          "data": {
            "text/plain": [
              "'zack,ravi,rick'"
            ],
            "application/vnd.google.colaboratory.intrinsic+json": {
              "type": "string"
            }
          },
          "metadata": {},
          "execution_count": 18
        }
      ]
    },
    {
      "cell_type": "code",
      "source": [
        "#9. Given a string of odd length greater that 9,return a new string made of the middle three characters of a given String\n",
        "x=\"nithinravul\"\n",
        "x[4:7]\n",
        "\n"
      ],
      "metadata": {
        "colab": {
          "base_uri": "https://localhost:8080/",
          "height": 36
        },
        "id": "lJpjGNeX9udZ",
        "outputId": "ca0689e3-6d4c-4cb0-8723-ba324bd7bcd4"
      },
      "execution_count": 21,
      "outputs": [
        {
          "output_type": "execute_result",
          "data": {
            "text/plain": [
              "'inr'"
            ],
            "application/vnd.google.colaboratory.intrinsic+json": {
              "type": "string"
            }
          },
          "metadata": {},
          "execution_count": 21
        }
      ]
    },
    {
      "cell_type": "code",
      "source": [
        "#10. Write a python program to insert a 2 string in the middle of 1 string\n",
        "x=\"hello   world\"\n",
        "y=x.replace(\"   \",\"there\")\n",
        "print(y)\n",
        "\n"
      ],
      "metadata": {
        "colab": {
          "base_uri": "https://localhost:8080/"
        },
        "id": "KAU2dY7u9ur9",
        "outputId": "a95ad796-6382-4483-8c64-ba14ae2bce9e"
      },
      "execution_count": 50,
      "outputs": [
        {
          "output_type": "stream",
          "name": "stdout",
          "text": [
            "hellothereworld\n"
          ]
        }
      ]
    },
    {
      "cell_type": "code",
      "source": [
        "#11. Write a program to remove vowels from the entire alphabets\n",
        "x=\"abcdefghijklmnopqrstuvwxyz\"\n",
        "x1=x.replace(\"a\",\"\")\n",
        "x2=x1.replace(\"e\",\"\")\n",
        "x3=x2.replace(\"i\",\"\")\n",
        "x4=x3.replace(\"o\",\"\")\n",
        "x5=x4.replace(\"u\",\"\")\n",
        "print(x5)\n"
      ],
      "metadata": {
        "colab": {
          "base_uri": "https://localhost:8080/"
        },
        "id": "aBvdBRTNS5iF",
        "outputId": "eddaadd7-b286-46f3-da90-ec26f8c9bd96"
      },
      "execution_count": 57,
      "outputs": [
        {
          "output_type": "stream",
          "name": "stdout",
          "text": [
            "bcdfghjklmnpqrstvwxyz\n"
          ]
        }
      ]
    }
  ]
}